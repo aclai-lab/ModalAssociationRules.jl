{
 "cells": [
  {
   "cell_type": "markdown",
   "id": "e4e6f3e5",
   "metadata": {},
   "source": [
    "# Experiments driver for NATOPS\n",
    "\n",
    "This notebook collects the experiments performed for TIME 2025."
   ]
  },
  {
   "cell_type": "code",
   "execution_count": 25,
   "id": "1c473889",
   "metadata": {},
   "outputs": [
    {
     "name": "stderr",
     "output_type": "stream",
     "text": [
      "\u001b[32m\u001b[1m  Activating\u001b[22m\u001b[39m project at `~/.julia/dev/ModalAssociationRules`\n"
     ]
    }
   ],
   "source": [
    "import Pkg\n",
    "\n",
    "# activate the general environment of ModalAssociationRules.jl package\n",
    "Pkg.activate(joinpath(\"..\", \"..\", \"..\"))\n",
    "\n",
    "# a collection of utilities\n",
    "include(joinpath(\"..\", \"experiments-driver.jl\"));"
   ]
  },
  {
   "cell_type": "code",
   "execution_count": 26,
   "id": "27309a38",
   "metadata": {},
   "outputs": [],
   "source": [
    "# algorithm to be used for mining\n",
    "miningalgo = apriori\n",
    "\n",
    "# distance function to compare a time series and a motif of the same length; \n",
    "# we suggest to use Z-Normalized Euclidean distance if you are not interested in the scale\n",
    "# but just in identifying common shapes between signals.\n",
    "expdistance = (x, y) -> zeuclidean(x, y) |> first;"
   ]
  },
  {
   "cell_type": "code",
   "execution_count": 27,
   "id": "89509152",
   "metadata": {},
   "outputs": [],
   "source": [
    "# load NATOPS dataset\n",
    "X, y = load_NATOPS();\n",
    "\n",
    "# also, insert a new column representing the difference in height between the thumb and \n",
    "# the middle finger tip of the right hand;\n",
    "# this is useful to describe \"All clear\" and \"Not clear\" classes.\n",
    "insertcols!(X, 25, \"ΔY[Thumb r and Hand tip r]\" => X[:,5]-X[:,23]);"
   ]
  },
  {
   "cell_type": "code",
   "execution_count": 28,
   "id": "292f58d0",
   "metadata": {},
   "outputs": [],
   "source": [
    "# separate all the classes in separate collections\n",
    "\n",
    "# I have command\n",
    "IHCC = reduce(vcat, [X[1:30, :], X[(180+1):(180+30), :]]);\n",
    "# All clear\n",
    "ACC = reduce(vcat, [X[31:60, :], X[(180+31):(180+60), :]]);\n",
    "# Not clear\n",
    "NCC = reduce(vcat, [X[61:90, :], X[(180+61):(180+90), :]]);\n",
    "# Spread wings\n",
    "SWC = reduce(vcat, [X[91:120, :], X[(180+91):(180+120), :]]);\n",
    "# Fold wings\n",
    "FWC = reduce(vcat, [X[121:150, :], X[(180+121):(180+150), :]]);\n",
    "# Lock wings\n",
    "LWC = reduce(vcat, [X[151:180, :], X[(180+151):(360), :]]);"
   ]
  },
  {
   "cell_type": "code",
   "execution_count": 29,
   "id": "6b506088",
   "metadata": {},
   "outputs": [],
   "source": [
    "# name for each variable;\n",
    "# this will be useful later when printing during the snippets labeling\n",
    "\n",
    "variablenames = [\n",
    "    \"X[Hand tip l]\", \"Y[Hand tip l]\", \"Z[Hand tip l]\",\n",
    "    \"X[Hand tip r]\", \"Y[Hand tip r]\", \"Z[Hand tip r]\",\n",
    "    \"X[Elbow l]\", \"Y[Elbow l]\", \"Z[Elbow l]\",\n",
    "    \"X[Elbow r]\", \"Y[Elbow r]\", \"Z[Elbow r]\",\n",
    "    \"X[Wrist l]\", \"Y[Wrist l]\", \"Z[Wrist l]\",\n",
    "    \"X[Wrist r]\", \"Y[Wrist r]\", \"Z[Wrist r]\",\n",
    "    \"X[Thumb l]\", \"Y[Thumb l]\", \"Z[Thumb l]\",\n",
    "    \"X[Thumb r]\", \"Y[Thumb r]\", \"Z[Thumb r]\",\n",
    "    \"ΔY[Thumb r and Hand tip r]\"\n",
    "];"
   ]
  },
  {
   "cell_type": "markdown",
   "id": "a97e20d6",
   "metadata": {},
   "source": [
    "## I have command"
   ]
  },
  {
   "cell_type": "code",
   "execution_count": null,
   "id": "332a0489",
   "metadata": {},
   "outputs": [],
   "source": [
    "# run this cell if you need to create your literals, that is,\n",
    "# to extract snippets from time series and give them a name.\n",
    "\n",
    "ids = []\n",
    "motifs = []\n",
    "featurenames = []\n",
    "\n",
    "# we only want to consider right hand and right elbow variables\n",
    "for varid in vcat(collect(3:6), collect(10:12))\n",
    "\n",
    "    data = reduce(vcat, IHCC[:,varid])\n",
    "    S = snippets(data, 4, 10; m=10)\n",
    "    Slong = snippets(data, 3, 20; m=20)\n",
    "\n",
    "    motifs = [\n",
    "        [_snippet(S,1)], [_snippet(S,2)], [_snippet(S,3)], [_snippet(S,4)],\n",
    "        [_snippet(Slong,1)], [_snippet(Slong,2)], [_snippet(Slong,3)]\n",
    "    ]\n",
    "\n",
    "    for (i, motif) in enumerate(motifs)\n",
    "        println(\"Plotting $(i)-th motif of class $(variablenames[varid])\")\n",
    "        _plot = plot()\n",
    "        plot!(motif)\n",
    "        display(_plot)\n",
    "\n",
    "        _featurename = readline()\n",
    "\n",
    "        push!(ids, varid)\n",
    "        push!(motifs, motif)\n",
    "        push!(featurenames, _featurename)\n",
    "    end\n",
    "end\n",
    "\n",
    "serialize(\"test/experiments/NATOPS/NATOPS-IHCC-ids\", ids)\n",
    "serialize(\"test/experiments/NATOPS/NATOPS-IHCC-motifs\", motifs)\n",
    "serialize(\"test/experiments/NATOPS/NATOPS-IHCC-featurenames\", featurenames)"
   ]
  },
  {
   "cell_type": "code",
   "execution_count": null,
   "id": "b4287265",
   "metadata": {},
   "outputs": [],
   "source": [
    "# run this cell if you already created your literals\n",
    "\n",
    "__ids = deserialize(\"test/experiments/NATOPS/NATOPS-IHCC-ids\")\n",
    "__motifs = deserialize(\"test/experiments/NATOPS/NATOPS-IHCC-motifs\")\n",
    "__featurenames = deserialize(\"test/experiments/NATOPS/NATOPS-IHCC-featurenames\")"
   ]
  }
 ],
 "metadata": {
  "kernelspec": {
   "display_name": "Julia 1.11.1",
   "language": "julia",
   "name": "julia-1.11"
  },
  "language_info": {
   "file_extension": ".jl",
   "mimetype": "application/julia",
   "name": "julia",
   "version": "1.11.1"
  }
 },
 "nbformat": 4,
 "nbformat_minor": 5
}
