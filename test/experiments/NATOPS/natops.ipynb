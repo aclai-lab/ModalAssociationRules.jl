{
 "cells": [
  {
   "cell_type": "markdown",
   "id": "e4e6f3e5",
   "metadata": {},
   "source": [
    "# Experiments driver for NATOPS\n",
    "\n",
    "This notebook collects the experiments performed for TIME 2025.\n",
    "\n",
    "After a preprocessing phase of the data (e.g., slice out a specific class from the dataset), \n",
    "you can probe the most representative motifs (i.e., the time series snippets) and give them\n",
    "a name, or you can just load the exact names we used for the paper; more details are \n",
    "provided in the comments of each cell."
   ]
  },
  {
   "cell_type": "code",
   "execution_count": 1,
   "id": "1c473889",
   "metadata": {},
   "outputs": [
    {
     "name": "stderr",
     "output_type": "stream",
     "text": [
      "\u001b[32m\u001b[1m  Activating\u001b[22m\u001b[39m project at `~/.julia/dev/ModalAssociationRules`\n"
     ]
    }
   ],
   "source": [
    "import Pkg\n",
    "using Serialization: serialize, deserialize\n",
    "\n",
    "# activate the general environment of ModalAssociationRules.jl package\n",
    "Pkg.activate(joinpath(\"..\", \"..\", \"..\"))\n",
    "\n",
    "# a collection of utilities\n",
    "include(joinpath(\"..\", \"experiments-driver.jl\"));"
   ]
  },
  {
   "cell_type": "code",
   "execution_count": 2,
   "id": "27309a38",
   "metadata": {},
   "outputs": [],
   "source": [
    "# algorithm to be used for mining\n",
    "miningalgo = apriori\n",
    "\n",
    "# distance function to compare a time series and a motif of the same length; \n",
    "# we suggest to use Z-Normalized Euclidean distance if you are not interested in the scale\n",
    "# but just in identifying common shapes between signals.\n",
    "expdistance = (x, y) -> zeuclidean(x, y) |> first;"
   ]
  },
  {
   "cell_type": "code",
   "execution_count": 50,
   "id": "89509152",
   "metadata": {},
   "outputs": [],
   "source": [
    "# load NATOPS dataset\n",
    "X, y = load_NATOPS();\n",
    "\n",
    "# also, insert a new column representing the difference in height between the thumb and \n",
    "# the middle finger tip of the right hand;\n",
    "# this is useful to describe \"All clear\" and \"Not clear\" classes.\n",
    "_min_rhand = minimum(minimum(X[:,5])) |> abs\n",
    "_rhand_y_corrected = [v.+abs(_min_rhand) for v in X[:,5]]\n",
    "_thumb_y_corrected = [v.+abs(_min_rhand) for v in X[:,23]]\n",
    "_delta_thumb = (_rhand_y_corrected - _thumb_y_corrected)\n",
    "_delta_thumb_corrected = [v.-_min_rhand for v in _delta_thumb]\n",
    "\n",
    "insertcols!(X, 25, \"ΔY[Thumb r and Hand tip r]\" => _delta_thumb_corrected);"
   ]
  },
  {
   "cell_type": "code",
   "execution_count": 4,
   "id": "292f58d0",
   "metadata": {},
   "outputs": [],
   "source": [
    "# separate all the classes in separate collections\n",
    "\n",
    "# I have command\n",
    "IHCC = reduce(vcat, [X[1:30, :], X[(180+1):(180+30), :]]);\n",
    "# All clear\n",
    "ACC = reduce(vcat, [X[31:60, :], X[(180+31):(180+60), :]]);\n",
    "# Not clear\n",
    "NCC = reduce(vcat, [X[61:90, :], X[(180+61):(180+90), :]]);\n",
    "# Spread wings\n",
    "SWC = reduce(vcat, [X[91:120, :], X[(180+91):(180+120), :]]);\n",
    "# Fold wings\n",
    "FWC = reduce(vcat, [X[121:150, :], X[(180+121):(180+150), :]]);\n",
    "# Lock wings\n",
    "LWC = reduce(vcat, [X[151:180, :], X[(180+151):(360), :]]);"
   ]
  },
  {
   "cell_type": "code",
   "execution_count": 5,
   "id": "6b506088",
   "metadata": {},
   "outputs": [],
   "source": [
    "# name for each variable;\n",
    "# this will be useful later when printing during the snippets labeling\n",
    "\n",
    "variablenames = [\n",
    "    \"X[Hand tip l]\", \"Y[Hand tip l]\", \"Z[Hand tip l]\",\n",
    "    \"X[Hand tip r]\", \"Y[Hand tip r]\", \"Z[Hand tip r]\",\n",
    "    \"X[Elbow l]\", \"Y[Elbow l]\", \"Z[Elbow l]\",\n",
    "    \"X[Elbow r]\", \"Y[Elbow r]\", \"Z[Elbow r]\",\n",
    "    \"X[Wrist l]\", \"Y[Wrist l]\", \"Z[Wrist l]\",\n",
    "    \"X[Wrist r]\", \"Y[Wrist r]\", \"Z[Wrist r]\",\n",
    "    \"X[Thumb l]\", \"Y[Thumb l]\", \"Z[Thumb l]\",\n",
    "    \"X[Thumb r]\", \"Y[Thumb r]\", \"Z[Thumb r]\",\n",
    "    \"ΔY[Thumb r and Hand tip r]\"\n",
    "];"
   ]
  },
  {
   "cell_type": "markdown",
   "id": "a97e20d6",
   "metadata": {},
   "source": [
    "## I have command"
   ]
  },
  {
   "cell_type": "code",
   "execution_count": null,
   "id": "332a0489",
   "metadata": {},
   "outputs": [],
   "source": [
    "# run this cell if you need to create your literals, that is,\n",
    "# to extract snippets from time series and give them a name.\n",
    "\n",
    "ids, motifs, featurenames = label_motifs(\n",
    "    IHCC, \n",
    "    vcat(collect(4:6), collect(10:12)), # consider only right hand and right elbow,\n",
    "    \"NATOPS-IHCC\"\n",
    ")"
   ]
  },
  {
   "cell_type": "code",
   "execution_count": null,
   "id": "5907d9d5",
   "metadata": {},
   "outputs": [
    {
     "data": {
      "text/plain": [
       "([4, 4, 4, 4, 4, 4, 4, 5, 5, 5  …  11, 11, 11, 12, 12, 12, 12, 12, 12, 12], [[[1.070687, 0.989701, 0.905776, 0.821171, 0.769264, 0.722593, 0.700751, 0.686546, 0.681315, 0.674435]], [[0.6842, 0.743088, 0.822032, 0.947955, 1.156486, 1.484666, 1.722271, 1.972699, 2.141395, 2.249667]], [[1.617946, 1.840931, 2.013187, 2.062029, 2.034478, 1.900702, 1.649079, 1.376065, 1.146223, 0.918773]], [[0.730132, 0.724228, 0.717966, 0.716882, 0.715214, 0.714615, 0.751577, 0.860216, 1.018859, 1.235754]], [[2.109992, 2.399826, 2.446918, 2.40285, 2.261639, 2.036411, 1.770601, 1.432499, 1.093325, 0.807762, 0.560649, 0.398372, 0.310559, 0.281597, 0.302128, 0.358724, 0.45962, 0.573587, 0.746084, 0.971679]], [[0.551596, 0.515704, 0.554324, 0.552534, 0.552584, 0.572486, 0.628508, 0.787978, 1.02761, 1.335586, 1.636748, 1.964852, 2.115066, 2.14653, 2.159527, 2.097312, 2.101799, 1.940397, 1.781082, 1.575444]], [[0.52307, 0.551924, 0.667915, 0.883322, 1.183991, 1.550731, 2.033137, 2.071177, 2.129866, 2.226304, 2.125249, 1.983606, 1.75201, 1.476158, 1.180405, 0.905381, 0.670326, 0.513893, 0.45814, 0.510569]], [[1.649835, 1.59319, 1.381594, 1.031555, 0.681143, 0.210206, -0.240879, -0.761203, -1.255983, -1.641531]], [[-1.658564, -1.449328, -1.040656, -0.712369, -0.356971, 0.010926, 0.415928, 0.721161, 0.959445, 1.071755]], [[-0.398522, -0.927747, -1.362279, -1.68796, -1.810849, -1.923434, -1.867999, -1.873811, -1.865322, -1.859225]]  …  [[0.578612, 0.526409, 0.424481, 0.345055, 0.257078, 0.106303, -0.088723, -0.19874, -0.326656, -0.471794, -0.564181, -0.61571, -0.644355, -0.700565, -0.737224, -0.749253, -0.759797, -0.766199, -0.766258, -0.762656]], [[-0.751412, -0.753904, -0.754062, -0.759432, -0.73725, -0.63194, -0.619174, -0.480381, -0.425965, -0.33094, -0.240813, -0.153763, -0.084976, -0.019783, 0.063142, 0.099116, 0.197807, 0.199909, 0.207526, 0.210921]], [[0.250312, 0.372055, 0.446884, 0.506243, 0.530798, 0.539038, 0.539004, 0.539808, 0.524377, 0.497876, 0.400146, 0.309808, 0.217222, 0.057276, -0.050237, -0.202978, -0.35821, -0.475667, -0.590462, -0.693841]], [[0.275643, 0.270975, 0.259945, 0.234409, 0.205952, 0.179152, 0.155998, 0.125928, 0.102645, 0.093814]], [[-0.071918, -0.044953, -0.022115, -0.006389, 0.019107, 0.071283, 0.097262, 0.121629, 0.151915, 0.168727]], [[-0.202499, -0.202683, -0.20216, -0.19851, -0.208315, -0.202059, -0.192053, -0.146495, -0.093281, -0.047226]], [[0.048117, 0.091031, 0.144016, 0.182098, 0.206081, 0.220548, 0.216625, 0.218911, 0.220195, 0.221864]], [[-0.259258, -0.25872, -0.259083, -0.253228, -0.242038, -0.207578, -0.19087, -0.1923, -0.13759, -0.114992, -0.0814, -0.053039, -0.034906, -0.010691, 0.01588, 0.023358, 0.02118, 0.019177, 0.01685, 0.015389]], [[0.0073, 0.008826, 0.001468, -5.7e-5, -0.002966, -0.009985, -0.017374, -0.027381, -0.037656, -0.044794, -0.05265, -0.059824, -0.072737, -0.079179, -0.093094, -0.110825, -0.12258, -0.133828, -0.131319, -0.134456]], [[-0.046384, -0.043551, -0.041851, -0.041179, -0.04084, -0.03845, -0.042258, -0.064917, -0.069376, -0.084621, -0.071918, -0.044953, -0.022115, -0.006389, 0.019107, 0.071283, 0.097262, 0.121629, 0.151915, 0.168727]]], [\"left\", \"right\", \"inv_left\", \"pause_right\", \"inv_left_inv\", \"pause_right_inv\", \"left_inv_right\", \"down\", \"up\", \"down_pause\"  …  \"longdown\", \"longup\", \"inv_longdown\", \"behind\", \"front\", \"pause_front\", \"front_pause\", \"longfront\", \"longbehind\", \"pause_slightlybehind_front\"])"
      ]
     },
     "metadata": {},
     "output_type": "display_data"
    }
   ],
   "source": [
    "# run this cell if you already created your literals\n",
    "ids, motifs, featurenames = load_motifs(\"NATOPS-IHCC\");"
   ]
  },
  {
   "cell_type": "code",
   "execution_count": 143,
   "id": "7256b4d8",
   "metadata": {},
   "outputs": [
    {
     "ename": "UndefVarError",
     "evalue": "UndefVarError: `ids` not defined in `Main`\nSuggestion: check for spelling errors or missing imports.",
     "output_type": "error",
     "traceback": [
      "UndefVarError: `ids` not defined in `Main`\n",
      "Suggestion: check for spelling errors or missing imports.\n",
      "\n",
      "Stacktrace:\n",
      " [1] top-level scope\n",
      "   @ ~/.julia/dev/ModalAssociationRules/test/experiments/NATOPS/jl_notebook_cell_df34fa98e69747e1a8f8a730347b8e2f_X15sZmlsZQ==.jl:2"
     ]
    }
   ],
   "source": [
    "# run the experiment (hyperparameters are `initialize_experiment` kwargs) & save the results\n",
    "logiset, miner = initialize_experiment(ids, motifs, featurenames, IHCC)\n",
    "experiment!(miner, \"i_have_command\")"
   ]
  },
  {
   "cell_type": "markdown",
   "id": "9c9c9cd0",
   "metadata": {},
   "source": [
    "# Not clear"
   ]
  },
  {
   "cell_type": "code",
   "execution_count": null,
   "id": "0d7c7324",
   "metadata": {},
   "outputs": [],
   "source": [
    "ids, motifs, featurenames = label_motifs(\n",
    "    NCC, \n",
    "    vcat(collect(4:6), collect(10:12), 25),\n",
    "    \"NATOPS-NCC\"\n",
    ")"
   ]
  },
  {
   "cell_type": "code",
   "execution_count": null,
   "id": "c08f87cf",
   "metadata": {},
   "outputs": [],
   "source": [
    "ids, motifs, featurenames = load_motifs(\"NATOPS-NCC\")"
   ]
  },
  {
   "cell_type": "code",
   "execution_count": null,
   "id": "7306bdd7",
   "metadata": {},
   "outputs": [],
   "source": [
    "logiset, miner = initialize_experiment(ids, motifs, featurenames, NCC)\n",
    "experiment!(miner, \"not_clear\")"
   ]
  },
  {
   "cell_type": "markdown",
   "id": "56c33952",
   "metadata": {},
   "source": [
    "# Lock wings"
   ]
  },
  {
   "cell_type": "code",
   "execution_count": null,
   "id": "af412058",
   "metadata": {},
   "outputs": [],
   "source": [
    "ids, motifs, featurenames = label_motifs(\n",
    "    LWC, \n",
    "    vcat(collect(1:12)),\n",
    "    \"NATOPS-LWC\"\n",
    ")"
   ]
  },
  {
   "cell_type": "code",
   "execution_count": null,
   "id": "22f77ae6",
   "metadata": {},
   "outputs": [],
   "source": [
    "ids, motifs, featurenames = load_motifs(\"NATOPS-LWC\")"
   ]
  },
  {
   "cell_type": "code",
   "execution_count": null,
   "id": "4327b768",
   "metadata": {},
   "outputs": [],
   "source": [
    "logiset, miner = initialize_experiment(ids, motifs, featurenames, LWC)\n",
    "experiment!(miner, \"lock_wings\")"
   ]
  },
  {
   "cell_type": "markdown",
   "id": "688d962d",
   "metadata": {},
   "source": [
    "# Plots"
   ]
  },
  {
   "cell_type": "code",
   "execution_count": 6,
   "id": "fa141b65",
   "metadata": {},
   "outputs": [
    {
     "data": {
      "text/plain": [
       "Plots.PGFPlotsXBackend()"
      ]
     },
     "metadata": {},
     "output_type": "display_data"
    }
   ],
   "source": [
    "using Plots\n",
    "using PGFPlotsX\n",
    "pgfplotsx()"
   ]
  },
  {
   "cell_type": "code",
   "execution_count": 142,
   "id": "f383ec6d",
   "metadata": {},
   "outputs": [],
   "source": [
    "IHCC_plot = plot(IHCC[1,4], IHCC[1,5], \n",
    "    label = \"\", linecolor = :blue, linewidth = 1, aspect_ratio = :equal,\n",
    "    xlims=(0,3), ylims=(-2.2,1.5), \n",
    "    titlefont=font(18, \"Arial\"), guidefontsize=16, size = (300, 300),\n",
    "    legend = :topright\n",
    ")\n",
    "\n",
    "plot!(IHCC[1,10], IHCC[1,11],\n",
    "    label = \"\", linecolor = :red, linewidth = 1,)\n",
    "\n",
    "xlabel!(\"x\")\n",
    "ylabel!(\"y\")\n",
    "\n",
    "title!(\"I have command\")\n",
    "\n",
    "savefig(\"results/plot_IHCC.tex\");"
   ]
  },
  {
   "cell_type": "code",
   "execution_count": 141,
   "id": "f3b65eb3",
   "metadata": {},
   "outputs": [],
   "source": [
    "NCC_plot = plot(NCC[1,4], NCC[1,5],\n",
    "    label = \"\", linecolor = :blue, linewidth = 1,\n",
    "    xlims=(0,3), ylims=(-2.2,1.5),\n",
    "    titlefont=font(18, \"Arial\"), guidefontsize=16, size = (300, 300),\n",
    "    # legend = :topleft\n",
    ");\n",
    "\n",
    "# actually this is not correct, as y axis should indicate a position...\n",
    "# plot!(NCC[1,4], -NCC[1,25],\n",
    "#     label = \"Thumb orientation\", linecolor = :red, linewidth = 1,)\n",
    "\n",
    "# it is better to give the same idea but coloring the main signal in red, when the thumb \n",
    "# is down\n",
    "x = NCC[1,4]; y = NCC[1,5];\n",
    "x2 = x[15:32]; y2 = y[15:32];\n",
    "x3 = x[33:end]; y3 = y[33:end];\n",
    "\n",
    "plot!(x2, y2, linecolor = :red, linewidth = 1, label = \"\")  # red segment\n",
    "plot!(x3, y3, linecolor = :blue, linewidth = 1, label = \"\")  # after red\n",
    "\n",
    "\n",
    "xlabel!(\"x\")\n",
    "ylabel!(\"y\")\n",
    "\n",
    "title!(\"Not clear\")\n",
    "\n",
    "savefig(\"results/plot_NCC.tex\");"
   ]
  },
  {
   "cell_type": "code",
   "execution_count": 140,
   "id": "19352dec",
   "metadata": {},
   "outputs": [],
   "source": [
    "LWC_plot = plot(LWC[1,1], LWC[1,2],\n",
    "    label = \"\", linecolor = :orange, linewidth = 1,\n",
    "    xlims=(-1,3), ylims=(-2.2,1.5),\n",
    "    titlefont=font(18, \"Arial\"), guidefontsize=16, size = (300, 300),\n",
    "    legend = :topleft\n",
    ");\n",
    "\n",
    "plot!(LWC[1,4], LWC[1,5],\n",
    "    label = \"\", linecolor = :blue, linewidth = 1,)\n",
    "\n",
    "plot!(LWC[1,7], LWC[1,8],\n",
    "    label = \"\", linecolor = :violet, linewidth = 1,)\n",
    "\n",
    "plot!(LWC[1,10], LWC[1,11],\n",
    "    label = \"\", linecolor = :red, linewidth = 1,)\n",
    "\n",
    "xlabel!(\"x\")\n",
    "ylabel!(\"y\")\n",
    "zlabel!(\"z\")\n",
    "\n",
    "title!(\"Locked wings\")\n",
    "\n",
    "savefig(\"results/plot_LWC.tex\");"
   ]
  },
  {
   "cell_type": "code",
   "execution_count": null,
   "id": "21521227",
   "metadata": {},
   "outputs": [],
   "source": []
  }
 ],
 "metadata": {
  "kernelspec": {
   "display_name": "Julia 1.11.1",
   "language": "julia",
   "name": "julia-1.11"
  },
  "language_info": {
   "file_extension": ".jl",
   "mimetype": "application/julia",
   "name": "julia",
   "version": "1.11.1"
  }
 },
 "nbformat": 4,
 "nbformat_minor": 5
}
