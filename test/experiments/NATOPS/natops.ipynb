{
 "cells": [
  {
   "cell_type": "markdown",
   "id": "e4e6f3e5",
   "metadata": {},
   "source": [
    "# Experiments driver for NATOPS\n",
    "\n",
    "This notebook collects the experiments performed for TIME 2025.\n",
    "\n",
    "After a preprocessing phase of the data (e.g., slice out a specific class from the dataset), \n",
    "you can probe the most representative motifs (i.e., the time series snippets) and give them\n",
    "a name, or you can just load the exact names we used for the paper; more details are \n",
    "provided in the comments of each cell."
   ]
  },
  {
   "cell_type": "code",
   "execution_count": 1,
   "id": "1c473889",
   "metadata": {},
   "outputs": [
    {
     "name": "stderr",
     "output_type": "stream",
     "text": [
      "\u001b[32m\u001b[1m  Activating\u001b[22m\u001b[39m project at `~/.julia/dev/ModalAssociationRules`\n"
     ]
    }
   ],
   "source": [
    "import Pkg\n",
    "using Serialization: serialize, deserialize\n",
    "\n",
    "# activate the general environment of ModalAssociationRules.jl package\n",
    "Pkg.activate(joinpath(\"..\", \"..\", \"..\"))\n",
    "\n",
    "# a collection of utilities\n",
    "include(joinpath(\"..\", \"experiments-driver.jl\"));"
   ]
  },
  {
   "cell_type": "code",
   "execution_count": 2,
   "id": "27309a38",
   "metadata": {},
   "outputs": [],
   "source": [
    "# algorithm to be used for mining\n",
    "miningalgo = apriori\n",
    "\n",
    "# distance function to compare a time series and a motif of the same length; \n",
    "# we suggest to use Z-Normalized Euclidean distance if you are not interested in the scale\n",
    "# but just in identifying common shapes between signals.\n",
    "expdistance = (x, y) -> zeuclidean(x, y) |> first;"
   ]
  },
  {
   "cell_type": "code",
   "execution_count": 50,
   "id": "89509152",
   "metadata": {},
   "outputs": [],
   "source": [
    "# load NATOPS dataset\n",
    "X, y = load_NATOPS();\n",
    "\n",
    "# also, insert a new column representing the difference in height between the thumb and \n",
    "# the middle finger tip of the right hand;\n",
    "# this is useful to describe \"All clear\" and \"Not clear\" classes.\n",
    "_min_rhand = minimum(minimum(X[:,5])) |> abs\n",
    "_rhand_y_corrected = [v.+abs(_min_rhand) for v in X[:,5]]\n",
    "_thumb_y_corrected = [v.+abs(_min_rhand) for v in X[:,23]]\n",
    "_delta_thumb = (_rhand_y_corrected - _thumb_y_corrected)\n",
    "_delta_thumb_corrected = [v.-_min_rhand for v in _delta_thumb]\n",
    "\n",
    "insertcols!(X, 25, \"ΔY[Thumb r and Hand tip r]\" => _delta_thumb_corrected);"
   ]
  },
  {
   "cell_type": "code",
   "execution_count": 4,
   "id": "292f58d0",
   "metadata": {},
   "outputs": [],
   "source": [
    "# separate all the classes in separate collections\n",
    "\n",
    "# I have command\n",
    "IHCC = reduce(vcat, [X[1:30, :], X[(180+1):(180+30), :]]);\n",
    "# All clear\n",
    "ACC = reduce(vcat, [X[31:60, :], X[(180+31):(180+60), :]]);\n",
    "# Not clear\n",
    "NCC = reduce(vcat, [X[61:90, :], X[(180+61):(180+90), :]]);\n",
    "# Spread wings\n",
    "SWC = reduce(vcat, [X[91:120, :], X[(180+91):(180+120), :]]);\n",
    "# Fold wings\n",
    "FWC = reduce(vcat, [X[121:150, :], X[(180+121):(180+150), :]]);\n",
    "# Lock wings\n",
    "LWC = reduce(vcat, [X[151:180, :], X[(180+151):(360), :]]);"
   ]
  },
  {
   "cell_type": "code",
   "execution_count": 5,
   "id": "6b506088",
   "metadata": {},
   "outputs": [],
   "source": [
    "# name for each variable;\n",
    "# this will be useful later when printing during the snippets labeling\n",
    "\n",
    "variablenames = [\n",
    "    \"X[Hand tip l]\", \"Y[Hand tip l]\", \"Z[Hand tip l]\",\n",
    "    \"X[Hand tip r]\", \"Y[Hand tip r]\", \"Z[Hand tip r]\",\n",
    "    \"X[Elbow l]\", \"Y[Elbow l]\", \"Z[Elbow l]\",\n",
    "    \"X[Elbow r]\", \"Y[Elbow r]\", \"Z[Elbow r]\",\n",
    "    \"X[Wrist l]\", \"Y[Wrist l]\", \"Z[Wrist l]\",\n",
    "    \"X[Wrist r]\", \"Y[Wrist r]\", \"Z[Wrist r]\",\n",
    "    \"X[Thumb l]\", \"Y[Thumb l]\", \"Z[Thumb l]\",\n",
    "    \"X[Thumb r]\", \"Y[Thumb r]\", \"Z[Thumb r]\",\n",
    "    \"ΔY[Thumb r and Hand tip r]\"\n",
    "];"
   ]
  },
  {
   "cell_type": "markdown",
   "id": "a97e20d6",
   "metadata": {},
   "source": [
    "## I have command"
   ]
  },
  {
   "cell_type": "code",
   "execution_count": null,
   "id": "332a0489",
   "metadata": {},
   "outputs": [],
   "source": [
    "# run this cell if you need to create your literals, that is,\n",
    "# to extract snippets from time series and give them a name.\n",
    "\n",
    "ids, motifs, featurenames = label_motifs(\n",
    "    IHCC, \n",
    "    vcat(collect(4:6), collect(10:12)), # consider only right hand and right elbow,\n",
    "    \"NATOPS-IHCC\"\n",
    ")"
   ]
  },
  {
   "cell_type": "code",
   "execution_count": null,
   "id": "5907d9d5",
   "metadata": {},
   "outputs": [],
   "source": [
    "# run this cell if you already created your literals\n",
    "ids, motifs, featurenames = load_motifs(\"NATOPS-IHCC\")"
   ]
  },
  {
   "cell_type": "code",
   "execution_count": null,
   "id": "7256b4d8",
   "metadata": {},
   "outputs": [],
   "source": [
    "# run the experiment (hyperparameters are `initialize_experiment` kwargs) & save the results\n",
    "logiset, miner = initialize_experiment(ids, motifs, featurenames, IHCC)\n",
    "experiment!(miner, \"i_have_command\")"
   ]
  },
  {
   "cell_type": "markdown",
   "id": "9c9c9cd0",
   "metadata": {},
   "source": [
    "# Not clear"
   ]
  },
  {
   "cell_type": "code",
   "execution_count": null,
   "id": "0d7c7324",
   "metadata": {},
   "outputs": [],
   "source": [
    "ids, motifs, featurenames = label_motifs(\n",
    "    NCC, \n",
    "    vcat(collect(4:6), collect(10:12), 25),\n",
    "    \"NATOPS-NCC\"\n",
    ")"
   ]
  },
  {
   "cell_type": "code",
   "execution_count": null,
   "id": "c08f87cf",
   "metadata": {},
   "outputs": [],
   "source": [
    "ids, motifs, featurenames = load_motifs(\"NATOPS-NCC\")"
   ]
  },
  {
   "cell_type": "code",
   "execution_count": null,
   "id": "7306bdd7",
   "metadata": {},
   "outputs": [],
   "source": [
    "logiset, miner = initialize_experiment(ids, motifs, featurenames, NCC)\n",
    "experiment!(miner, \"not_clear\")"
   ]
  },
  {
   "cell_type": "markdown",
   "id": "56c33952",
   "metadata": {},
   "source": [
    "# Lock wings"
   ]
  },
  {
   "cell_type": "code",
   "execution_count": null,
   "id": "af412058",
   "metadata": {},
   "outputs": [],
   "source": [
    "ids, motifs, featurenames = label_motifs(\n",
    "    LWC, \n",
    "    vcat(collect(1:12)),\n",
    "    \"NATOPS-LWC\"\n",
    ")"
   ]
  },
  {
   "cell_type": "code",
   "execution_count": null,
   "id": "22f77ae6",
   "metadata": {},
   "outputs": [],
   "source": [
    "ids, motifs, featurenames = load_motifs(\"NATOPS-LWC\")"
   ]
  },
  {
   "cell_type": "code",
   "execution_count": null,
   "id": "4327b768",
   "metadata": {},
   "outputs": [],
   "source": [
    "logiset, miner = initialize_experiment(ids, motifs, featurenames, LWC)\n",
    "experiment!(miner, \"lock_wings\")"
   ]
  },
  {
   "cell_type": "markdown",
   "id": "688d962d",
   "metadata": {},
   "source": [
    "# Plots"
   ]
  },
  {
   "cell_type": "code",
   "execution_count": 6,
   "id": "fa141b65",
   "metadata": {},
   "outputs": [
    {
     "data": {
      "text/plain": [
       "Plots.PGFPlotsXBackend()"
      ]
     },
     "metadata": {},
     "output_type": "display_data"
    }
   ],
   "source": [
    "using Plots\n",
    "using PGFPlotsX\n",
    "pgfplotsx()"
   ]
  },
  {
   "cell_type": "code",
   "execution_count": 109,
   "id": "f383ec6d",
   "metadata": {},
   "outputs": [],
   "source": [
    "IHCC_plot = plot(IHCC[1,4], IHCC[1,5], \n",
    "    label = \"Right hand\", linecolor = :blue, linewidth = 1, aspect_ratio = :equal,\n",
    "    xlims=(0,3), titlefont=font(18, \"Arial\"), guidefontsize=16, size = (300, 400),\n",
    "    legend = :topright\n",
    ")\n",
    "\n",
    "plot!(IHCC[1,10], IHCC[1,11],\n",
    "    label = \"Right elbow\", linecolor = :red, linewidth = 1,)\n",
    "\n",
    "xlabel!(\"x\")\n",
    "ylabel!(\"y\")\n",
    "\n",
    "title!(\"I have command\")\n",
    "\n",
    "savefig(\"results/plot_IHCC.tex\");"
   ]
  },
  {
   "cell_type": "code",
   "execution_count": 108,
   "id": "f3b65eb3",
   "metadata": {},
   "outputs": [],
   "source": [
    "NCC_plot = plot(NCC[1,4], NCC[1,5],\n",
    "    label = \"Right hand\", linecolor = :blue, linewidth = 1,\n",
    "    xlims=(0,3), titlefont=font(18, \"Arial\"), guidefontsize=16, size = (300, 400),\n",
    "    legend = :topright\n",
    ");\n",
    "\n",
    "plot!(NCC[1,4], -NCC[1,25],\n",
    "    label = \"Thumb orientation\", linecolor = :red, linewidth = 1,)\n",
    "\n",
    "xlabel!(\"x\")\n",
    "ylabel!(\"y\")\n",
    "\n",
    "title!(\"Not clear\")\n",
    "\n",
    "savefig(\"results/plot_NCC.tex\");"
   ]
  },
  {
   "cell_type": "code",
   "execution_count": 106,
   "id": "19352dec",
   "metadata": {},
   "outputs": [],
   "source": [
    "LWC_plot = plot(LWC[1,1], LWC[1,2],\n",
    "    label = \"Left hand\", linecolor = :blue, linewidth = 1,\n",
    "    xlims=(-1,2), titlefont=font(18, \"Arial\"), guidefontsize=16, size = (300, 400),\n",
    "    legend = :topleft\n",
    ");\n",
    "\n",
    "plot!(LWC[1,4], LWC[1,5],\n",
    "    label = \"Right hand\", linecolor = :red, linewidth = 1,)\n",
    "\n",
    "plot!(LWC[1,7], LWC[1,8],\n",
    "    label = \"Left elbow\", linecolor = :violet, linewidth = 1,)\n",
    "\n",
    "plot!(LWC[1,10], LWC[1,11],\n",
    "    label = \"Right elbow\", linecolor = :orange, linewidth = 1,)\n",
    "\n",
    "xlabel!(\"x\")\n",
    "ylabel!(\"y\")\n",
    "zlabel!(\"z\")\n",
    "\n",
    "title!(\"Locked wings\")\n",
    "\n",
    "savefig(\"results/plot_LWC.tex\");"
   ]
  },
  {
   "cell_type": "code",
   "execution_count": null,
   "id": "5dbcd98e",
   "metadata": {},
   "outputs": [],
   "source": []
  }
 ],
 "metadata": {
  "kernelspec": {
   "display_name": "Julia 1.11.1",
   "language": "julia",
   "name": "julia-1.11"
  },
  "language_info": {
   "file_extension": ".jl",
   "mimetype": "application/julia",
   "name": "julia",
   "version": "1.11.1"
  }
 },
 "nbformat": 4,
 "nbformat_minor": 5
}
