{
 "cells": [
  {
   "cell_type": "markdown",
   "id": "e4e6f3e5",
   "metadata": {},
   "source": [
    "# Experiments driver for NATOPS\n",
    "\n",
    "This notebook collects the experiments performed for TIME 2025."
   ]
  },
  {
   "cell_type": "code",
   "execution_count": null,
   "id": "1c473889",
   "metadata": {},
   "outputs": [
    {
     "name": "stderr",
     "output_type": "stream",
     "text": [
      "\u001b[32m\u001b[1m  Activating\u001b[22m\u001b[39m project at `~/.julia/dev/ModalAssociationRules`\n"
     ]
    }
   ],
   "source": [
    "import Pkg\n",
    "\n",
    "# activate the general environment of ModalAssociationRules.jl package\n",
    "Pkg.activate(joinpath(\"..\", \"..\", \"..\"))\n",
    "\n",
    "# a collection of utilities\n",
    "include(joinpath(\"..\", \"experiments-driver.jl\"));"
   ]
  },
  {
   "cell_type": "code",
   "execution_count": null,
   "id": "27309a38",
   "metadata": {},
   "outputs": [],
   "source": [
    "# algorithm to be used for mining\n",
    "miningalgo = apriori\n",
    "\n",
    "# distance function to compare a time series and a motif of the same length; \n",
    "# we suggest to use Z-Normalized Euclidean distance if you are not interested in the scale\n",
    "# but just in identifying common shapes between signals.\n",
    "expdistance = (x, y) -> zeuclidean(x, y) |> first;"
   ]
  },
  {
   "cell_type": "code",
   "execution_count": 19,
   "id": "89509152",
   "metadata": {},
   "outputs": [],
   "source": [
    "# load NATOPS dataset\n",
    "X, y = load_NATOPS();\n",
    "\n",
    "# also, insert a new column representing the difference in height between the thumb and \n",
    "# the middle finger tip of the right hand;\n",
    "# this is useful to describe \"All clear\" and \"Not clear\" classes.\n",
    "insertcols!(X, 25, \"ΔY[Thumb r and Hand tip r]\" => X[:,5]-X[:,23]);"
   ]
  },
  {
   "cell_type": "code",
   "execution_count": null,
   "id": "292f58d0",
   "metadata": {},
   "outputs": [],
   "source": []
  }
 ],
 "metadata": {
  "kernelspec": {
   "display_name": "Julia 1.11.1",
   "language": "julia",
   "name": "julia-1.11"
  },
  "language_info": {
   "file_extension": ".jl",
   "mimetype": "application/julia",
   "name": "julia",
   "version": "1.11.1"
  }
 },
 "nbformat": 4,
 "nbformat_minor": 5
}
