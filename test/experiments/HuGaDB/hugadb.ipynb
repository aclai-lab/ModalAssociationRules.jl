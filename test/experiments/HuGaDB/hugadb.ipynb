{
 "cells": [
  {
   "cell_type": "markdown",
   "id": "e4e6f3e5",
   "metadata": {},
   "source": [
    "# Experiments driver for HuGaDB\n",
    "\n",
    "This notebook collects the experiments performed for TIME 2025.\n",
    "\n",
    "If you are running the code of each cell in the REPL, please make sure your working\n",
    "directory is the same as this file by executing `; pwd`, or adjust the relative paths\n",
    "accordingly to your system.\n",
    "\n",
    "More about the dataset on https://github.com/romanchereshnev/HuGaDB."
   ]
  },
  {
   "cell_type": "code",
   "execution_count": 1,
   "id": "1c473889",
   "metadata": {},
   "outputs": [
    {
     "name": "stderr",
     "output_type": "stream",
     "text": [
      "\u001b[32m\u001b[1m  Activating\u001b[22m\u001b[39m project at `~/.julia/dev/ModalAssociationRules`\n"
     ]
    }
   ],
   "source": [
    "import Pkg\n",
    "using Serialization: serialize, deserialize\n",
    "\n",
    "# activate the general environment of ModalAssociationRules.jl package\n",
    "Pkg.activate(joinpath(\"..\", \"..\", \"..\"))\n",
    "\n",
    "# a collection of utilities\n",
    "include(joinpath(\"..\", \"experiments-driver.jl\"));"
   ]
  },
  {
   "cell_type": "code",
   "execution_count": null,
   "id": "27309a38",
   "metadata": {},
   "outputs": [],
   "source": [
    "# algorithm to be used for mining\n",
    "miningalgo = apriori\n",
    "\n",
    "# distance function to compare a time series and a motif of the same length; \n",
    "# we suggest to use Z-Normalized Euclidean distance if you are not interested in the scale\n",
    "# but just in identifying common shapes between signals.\n",
    "expdistance = (x, y) -> zeuclidean(x, y) |> first;\n",
    "\n",
    "# variables considered for these experiments\n",
    "expvars = [ # accelerometer data\n",
    "    1,3, # right foot x (+behind/-front) and z (+down/-up)  \n",
    "    13,15, # right thigh x (+up/-down) and z (+behind/-front)\n",
    "    19,21, # left foot x (+behind/-front) and z (+down/-up)\n",
    "    31,33  # left thigh x (+up/-down) and z (+behind/-front)\n",
    "]\n",
    "\n",
    "# files selected to build the experiments DataFrame\n",
    "expfiles = [\"HuGaDB_v2_various_02_00.txt\", \"HuGaDB_v2_various_02_01.txt\", \n",
    "    \"HuGaDB_v2_various_02_02.txt\", \"HuGaDB_v2_various_02_03.txt\", \"HuGaDB_v2_various_02_04.txt\", \n",
    "    \"HuGaDB_v2_various_02_05.txt\", \"HuGaDB_v2_various_02_06.txt\", \"HuGaDB_v2_various_06_00.txt\", \n",
    "    \"HuGaDB_v2_various_06_01.txt\", \"HuGaDB_v2_various_06_02.txt\", \"HuGaDB_v2_various_06_03.txt\", \n",
    "    \"HuGaDB_v2_various_06_04.txt\", \"HuGaDB_v2_various_06_05.txt\", \"HuGaDB_v2_various_06_06.txt\", \n",
    "    \"HuGaDB_v2_various_06_07.txt\", \"HuGaDB_v2_various_06_08.txt\", \"HuGaDB_v2_various_06_09.txt\", \n",
    "    \"HuGaDB_v2_various_06_10.txt\", \"HuGaDB_v2_various_06_11.txt\", \"HuGaDB_v2_various_06_12.txt\", \n",
    "    \"HuGaDB_v2_various_06_13.txt\", \"HuGaDB_v2_various_06_14.txt\", \"HuGaDB_v2_various_06_15.txt\", \n",
    "    \"HuGaDB_v2_various_06_16.txt\",  \"HuGaDB_v2_various_06_17.txt\", \"HuGaDB_v2_various_06_18.txt\", \n",
    "    \"HuGaDB_v2_various_06_19.txt\",  \"HuGaDB_v2_various_06_20.txt\", \"HuGaDB_v2_various_06_21.txt\", \n",
    "    \"HuGaDB_v2_various_06_22.txt\", \"HuGaDB_v2_various_06_23.txt\", \"HuGaDB_v2_various_06_24.txt\", \n",
    "    \"HuGaDB_v2_various_06_25.txt\",\"HuGaDB_v2_various_06_26.txt\", \"HuGaDB_v2_various_06_27.txt\"\n",
    "]"
   ]
  },
  {
   "cell_type": "code",
   "execution_count": null,
   "id": "a0cc842c",
   "metadata": {},
   "outputs": [],
   "source": [
    "# load all the data\n",
    "X, (activity_strings, activity_ids), variablenames = load_hugadb(expfiles)"
   ]
  },
  {
   "cell_type": "markdown",
   "id": "a97e20d6",
   "metadata": {},
   "source": [
    "## Walking"
   ]
  },
  {
   "cell_type": "code",
   "execution_count": null,
   "id": "c98ae9bc",
   "metadata": {},
   "outputs": [],
   "source": [
    "X_walking = filter_hugadb(X, 1) # 1 is the activity id for walking"
   ]
  },
  {
   "cell_type": "code",
   "execution_count": null,
   "id": "332a0489",
   "metadata": {},
   "outputs": [],
   "source": [
    "# run this cell if you need to create your literals, that is,\n",
    "# to extract snippets from time series and give them a name.\n",
    "\n",
    "ids, motifs, featurenames = label_motifs(\n",
    "    X_walking, expvars, \"HuGaDB-Walking\";\n",
    "    m1=25, n1=2,   # we want 2 snippets of length 100\n",
    "    m2=50, n2=2    # and 2 snippets of length 300\n",
    ")"
   ]
  },
  {
   "cell_type": "code",
   "execution_count": 6,
   "id": "5907d9d5",
   "metadata": {},
   "outputs": [],
   "source": [
    "# run this cell if you already created your literals\n",
    "ids, motifs, featurenames = load_motifs(\"NATOPS-IHCC\");"
   ]
  },
  {
   "cell_type": "code",
   "execution_count": 8,
   "id": "7256b4d8",
   "metadata": {},
   "outputs": [
    {
     "name": "stdout",
     "output_type": "stream",
     "text": [
      "Mining...\n",
      "Mining duration: 2912.19\n",
      "Generating rules...\n",
      "Generation duration: 634.22\n",
      "Writing to: /home/mauro/.julia/dev/ModalAssociationRules/test/experiments/results/i_have_command\n"
     ]
    }
   ],
   "source": [
    "# run the experiment (hyperparameters are `initialize_experiment` kwargs) & save the results\n",
    "logiset, miner = initialize_experiment(ids, motifs, featurenames, IHCC)\n",
    "experiment!(miner, \"i_have_command\")"
   ]
  },
  {
   "cell_type": "markdown",
   "id": "9c9c9cd0",
   "metadata": {},
   "source": [
    "# Running"
   ]
  },
  {
   "cell_type": "code",
   "execution_count": null,
   "id": "5f867267",
   "metadata": {},
   "outputs": [],
   "source": [
    "X_walking = filter_hugadb(X, 2) # 2 is the activity id for running"
   ]
  },
  {
   "cell_type": "code",
   "execution_count": null,
   "id": "0d7c7324",
   "metadata": {},
   "outputs": [],
   "source": [
    "ids, motifs, featurenames = label_motifs(\n",
    "    NCC, \n",
    "    vcat(collect(4:6), collect(10:12), 25),\n",
    "    \"NATOPS-NCC\"\n",
    ")"
   ]
  },
  {
   "cell_type": "code",
   "execution_count": 26,
   "id": "c08f87cf",
   "metadata": {},
   "outputs": [],
   "source": [
    "ids, motifs, featurenames = load_motifs(\"NATOPS-NCC\");"
   ]
  },
  {
   "cell_type": "code",
   "execution_count": 10,
   "id": "7306bdd7",
   "metadata": {},
   "outputs": [
    {
     "name": "stdout",
     "output_type": "stream",
     "text": [
      "Mining...\n",
      "Mining duration: 4826.88\n",
      "Generating rules...\n",
      "Generation duration: 1492.6\n",
      "Writing to: /home/mauro/.julia/dev/ModalAssociationRules/test/experiments/results/not_clear\n"
     ]
    }
   ],
   "source": [
    "logiset, miner = initialize_experiment(ids, motifs, featurenames, NCC)\n",
    "experiment!(miner, \"not_clear\")"
   ]
  },
  {
   "cell_type": "markdown",
   "id": "56c33952",
   "metadata": {},
   "source": [
    "# Lock wings"
   ]
  },
  {
   "cell_type": "code",
   "execution_count": null,
   "id": "af412058",
   "metadata": {},
   "outputs": [],
   "source": [
    "ids, motifs, featurenames = label_motifs(\n",
    "    LWC, \n",
    "    vcat(collect(1:12)),\n",
    "    \"NATOPS-LWC\"\n",
    ")"
   ]
  },
  {
   "cell_type": "code",
   "execution_count": 25,
   "id": "22f77ae6",
   "metadata": {},
   "outputs": [],
   "source": [
    "ids, motifs, featurenames = load_motifs(\"NATOPS-LWC\");"
   ]
  },
  {
   "cell_type": "code",
   "execution_count": null,
   "id": "4327b768",
   "metadata": {},
   "outputs": [],
   "source": [
    "logiset, miner = initialize_experiment(ids, motifs, featurenames, LWC)\n",
    "experiment!(miner, \"lock_wings\")"
   ]
  },
  {
   "cell_type": "code",
   "execution_count": null,
   "id": "bb521c96",
   "metadata": {},
   "outputs": [],
   "source": [
    "# fast sketch of the rules' output, sorted by lift \n",
    "# \n",
    "# ith = 1\n",
    "# t = []\n",
    "# \n",
    "# try\n",
    "#     for r in arules(miner)[ith:length(arules(miner))]\n",
    "#         _conf = round(\n",
    "#             globalmemo(miner, (:gconfidence, r)), digits=2\n",
    "#         )\n",
    "#         _lift = round(\n",
    "#             globalmemo(miner, (:glift, r)), digits=2\n",
    "#         )\n",
    "# \n",
    "#         push!(t, (r, _conf, _lift))\n",
    "#         ith += 1\n",
    "#     end\n",
    "# catch\n",
    "# end\n",
    "# \n",
    "# f = open(joinpath(\"results\", \"lock_wings\"), \"w\")\n",
    "# for (r,c,l) in sort!(t, by=x->x[3], rev=true)\n",
    "#     println(f, \"$(r) $(c) $(l)\");\n",
    "# end\n",
    "# flush(f)"
   ]
  },
  {
   "cell_type": "markdown",
   "id": "688d962d",
   "metadata": {},
   "source": [
    "# Plots"
   ]
  },
  {
   "cell_type": "code",
   "execution_count": 36,
   "id": "fa141b65",
   "metadata": {},
   "outputs": [
    {
     "data": {
      "text/plain": [
       "Plots.PGFPlotsXBackend()"
      ]
     },
     "metadata": {},
     "output_type": "display_data"
    }
   ],
   "source": [
    "using Plots\n",
    "using PGFPlotsX\n",
    "pgfplotsx()"
   ]
  },
  {
   "cell_type": "code",
   "execution_count": 23,
   "id": "f383ec6d",
   "metadata": {},
   "outputs": [],
   "source": [
    "IHCC_plot = plot(IHCC[1,4], IHCC[1,5], \n",
    "    label = \"\", linecolor = :blue, linewidth = 1, aspect_ratio = :equal,\n",
    "    xlims=(0,3), ylims=(-2.2,1.5), \n",
    "    titlefont=font(18, \"Arial\"), guidefontsize=16, size = (300, 300),\n",
    "    legend = :topright\n",
    ")\n",
    "\n",
    "plot!(IHCC[1,10], IHCC[1,11],\n",
    "    label = \"\", linecolor = :red, linewidth = 1,)\n",
    "\n",
    "xlabel!(\"x\")\n",
    "ylabel!(\"y\")\n",
    "\n",
    "title!(\"I have command\")\n",
    "\n",
    "savefig(\"results/plot_IHCC.tex\");"
   ]
  },
  {
   "cell_type": "code",
   "execution_count": null,
   "id": "f3b65eb3",
   "metadata": {},
   "outputs": [],
   "source": [
    "\n",
    "# actually this is not correct, as y axis should indicate a position...\n",
    "# plot!(NCC[1,4], -NCC[1,25],\n",
    "#     label = \"Thumb orientation\", linecolor = :red, linewidth = 1,)\n",
    "\n",
    "# it is better to give the same idea but coloring the main signal in red, when the thumb \n",
    "# is down\n",
    "x = NCC[1,4]; y = NCC[1,5];\n",
    "x1 = x[1:15]; y1 = y[1:15];\n",
    "x2 = x[15:33]; y2 = y[15:33];\n",
    "x3 = x[33:end]; y3 = y[33:end];\n",
    "\n",
    "NCC_plot = plot(x1, y1,\n",
    "    label = \"\", linecolor = :blue, linewidth = 1,\n",
    "    xlims=(0,3), ylims=(-2.2,1.5),\n",
    "    titlefont=font(18, \"Arial\"), guidefontsize=16, size = (300, 300),\n",
    "    # legend = :topleft\n",
    ");\n",
    "\n",
    "\n",
    "plot!(x2, y2, linecolor = :blue, linewidth = 1.5, label = \"\", ls=:dot)\n",
    "plot!(x3, y3, linecolor = :blue, linewidth = 1, label = \"\")\n",
    "\n",
    "plot!(NCC[1,10], NCC[1,11], linecolor = :red, linewidth = 1, label = \"\")\n",
    "\n",
    "xlabel!(\"x\")\n",
    "ylabel!(\"y\")\n",
    "\n",
    "title!(\"Not clear\")\n",
    "\n",
    "savefig(\"results/plot_NCC.tex\");"
   ]
  },
  {
   "cell_type": "code",
   "execution_count": 140,
   "id": "19352dec",
   "metadata": {},
   "outputs": [],
   "source": [
    "LWC_plot = plot(LWC[1,1], LWC[1,2],\n",
    "    label = \"\", linecolor = :orange, linewidth = 1,\n",
    "    xlims=(-1,3), ylims=(-2.2,1.5),\n",
    "    titlefont=font(18, \"Arial\"), guidefontsize=16, size = (300, 300),\n",
    "    legend = :topleft\n",
    ");\n",
    "\n",
    "plot!(LWC[1,4], LWC[1,5],\n",
    "    label = \"\", linecolor = :blue, linewidth = 1,)\n",
    "\n",
    "plot!(LWC[1,7], LWC[1,8],\n",
    "    label = \"\", linecolor = :violet, linewidth = 1,)\n",
    "\n",
    "plot!(LWC[1,10], LWC[1,11],\n",
    "    label = \"\", linecolor = :red, linewidth = 1,)\n",
    "\n",
    "xlabel!(\"x\")\n",
    "ylabel!(\"y\")\n",
    "zlabel!(\"z\")\n",
    "\n",
    "title!(\"Locked wings\")\n",
    "\n",
    "savefig(\"results/plot_LWC.tex\");"
   ]
  },
  {
   "cell_type": "code",
   "execution_count": null,
   "id": "21521227",
   "metadata": {},
   "outputs": [],
   "source": []
  }
 ],
 "metadata": {
  "kernelspec": {
   "display_name": "Julia 1.11.1",
   "language": "julia",
   "name": "julia-1.11"
  },
  "language_info": {
   "file_extension": ".jl",
   "mimetype": "application/julia",
   "name": "julia",
   "version": "1.11.1"
  }
 },
 "nbformat": 4,
 "nbformat_minor": 5
}
