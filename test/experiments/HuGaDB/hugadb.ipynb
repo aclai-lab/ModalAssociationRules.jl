{
 "cells": [
  {
   "cell_type": "markdown",
   "id": "e4e6f3e5",
   "metadata": {},
   "source": [
    "# Experiments driver for HuGaDB\n",
    "\n",
    "This notebook collects the experiments performed for TIME 2025.\n",
    "\n",
    "If you are running the code of each cell in the REPL, please make sure your working\n",
    "directory is the same as this file by executing `; pwd`, or adjust the relative paths\n",
    "accordingly to your system.\n",
    "\n",
    "More about the dataset on https://github.com/romanchereshnev/HuGaDB."
   ]
  },
  {
   "cell_type": "code",
   "execution_count": 1,
   "id": "1c473889",
   "metadata": {},
   "outputs": [
    {
     "name": "stderr",
     "output_type": "stream",
     "text": [
      "\u001b[32m\u001b[1m  Activating\u001b[22m\u001b[39m project at `~/.julia/dev/ModalAssociationRules`\n"
     ]
    }
   ],
   "source": [
    "import Pkg\n",
    "using Serialization: serialize, deserialize\n",
    "\n",
    "# activate the general environment of ModalAssociationRules.jl package\n",
    "Pkg.activate(joinpath(\"..\", \"..\", \"..\"))\n",
    "\n",
    "# a collection of utilities\n",
    "include(joinpath(\"..\", \"experiments-driver.jl\"));"
   ]
  },
  {
   "cell_type": "code",
   "execution_count": 2,
   "id": "27309a38",
   "metadata": {},
   "outputs": [
    {
     "data": {
      "text/plain": [
       "35-element Vector{String}:\n",
       " \"HuGaDB_v2_various_02_00.txt\"\n",
       " \"HuGaDB_v2_various_02_01.txt\"\n",
       " \"HuGaDB_v2_various_02_02.txt\"\n",
       " \"HuGaDB_v2_various_02_03.txt\"\n",
       " \"HuGaDB_v2_various_02_04.txt\"\n",
       " \"HuGaDB_v2_various_02_05.txt\"\n",
       " \"HuGaDB_v2_various_02_06.txt\"\n",
       " \"HuGaDB_v2_various_06_00.txt\"\n",
       " \"HuGaDB_v2_various_06_01.txt\"\n",
       " \"HuGaDB_v2_various_06_02.txt\"\n",
       " ⋮\n",
       " \"HuGaDB_v2_various_06_19.txt\"\n",
       " \"HuGaDB_v2_various_06_20.txt\"\n",
       " \"HuGaDB_v2_various_06_21.txt\"\n",
       " \"HuGaDB_v2_various_06_22.txt\"\n",
       " \"HuGaDB_v2_various_06_23.txt\"\n",
       " \"HuGaDB_v2_various_06_24.txt\"\n",
       " \"HuGaDB_v2_various_06_25.txt\"\n",
       " \"HuGaDB_v2_various_06_26.txt\"\n",
       " \"HuGaDB_v2_various_06_27.txt\""
      ]
     },
     "metadata": {},
     "output_type": "display_data"
    }
   ],
   "source": [
    "# algorithm to be used for mining\n",
    "miningalgo = apriori\n",
    "\n",
    "# distance function to compare a time series and a motif of the same length; \n",
    "# we suggest to use Z-Normalized Euclidean distance if you are not interested in the scale\n",
    "# but just in identifying common shapes between signals.\n",
    "expdistance = (x, y) -> zeuclidean(x, y) |> first;\n",
    "\n",
    "# variables considered for these experiments;\n",
    "# see the anatomic schema at https://github.com/romanchereshnev/HuGaDB\n",
    "expvars = [ # accelerometer data\n",
    "    1,3, # right foot x (+behind/-front) and z (+down/-up)  \n",
    "    13,15, # right thigh x (+up/-down) and z (+behind/-front)\n",
    "    19,21, # left foot x (+behind/-front) and z (+down/-up)\n",
    "    31,33  # left thigh x (+up/-down) and z (+behind/-front)\n",
    "]\n",
    "\n",
    "# files selected to build the experiments DataFrame\n",
    "expfiles = [\"HuGaDB_v2_various_02_00.txt\", \"HuGaDB_v2_various_02_01.txt\", \n",
    "    \"HuGaDB_v2_various_02_02.txt\", \"HuGaDB_v2_various_02_03.txt\", \"HuGaDB_v2_various_02_04.txt\", \n",
    "    \"HuGaDB_v2_various_02_05.txt\", \"HuGaDB_v2_various_02_06.txt\", \"HuGaDB_v2_various_06_00.txt\", \n",
    "    \"HuGaDB_v2_various_06_01.txt\", \"HuGaDB_v2_various_06_02.txt\", \"HuGaDB_v2_various_06_03.txt\", \n",
    "    \"HuGaDB_v2_various_06_04.txt\", \"HuGaDB_v2_various_06_05.txt\", \"HuGaDB_v2_various_06_06.txt\", \n",
    "    \"HuGaDB_v2_various_06_07.txt\", \"HuGaDB_v2_various_06_08.txt\", \"HuGaDB_v2_various_06_09.txt\", \n",
    "    \"HuGaDB_v2_various_06_10.txt\", \"HuGaDB_v2_various_06_11.txt\", \"HuGaDB_v2_various_06_12.txt\", \n",
    "    \"HuGaDB_v2_various_06_13.txt\", \"HuGaDB_v2_various_06_14.txt\", \"HuGaDB_v2_various_06_15.txt\", \n",
    "    \"HuGaDB_v2_various_06_16.txt\",  \"HuGaDB_v2_various_06_17.txt\", \"HuGaDB_v2_various_06_18.txt\", \n",
    "    \"HuGaDB_v2_various_06_19.txt\",  \"HuGaDB_v2_various_06_20.txt\", \"HuGaDB_v2_various_06_21.txt\", \n",
    "    \"HuGaDB_v2_various_06_22.txt\", \"HuGaDB_v2_various_06_23.txt\", \"HuGaDB_v2_various_06_24.txt\", \n",
    "    \"HuGaDB_v2_various_06_25.txt\",\"HuGaDB_v2_various_06_26.txt\", \"HuGaDB_v2_various_06_27.txt\"\n",
    "]"
   ]
  },
  {
   "cell_type": "code",
   "execution_count": 3,
   "id": "a0cc842c",
   "metadata": {},
   "outputs": [
    {
     "data": {
      "text/plain": [
       "(\u001b[1m35×39 DataFrame\u001b[0m\n",
       "\u001b[1m Row \u001b[0m│\u001b[1m acc_rf_x                          \u001b[0m\u001b[1m acc_rf_y                          \u001b[0m\u001b[1m a\u001b[0m ⋯\n",
       "     │\u001b[90m Array…                            \u001b[0m\u001b[90m Array…                            \u001b[0m\u001b[90m A\u001b[0m ⋯\n",
       "─────┼──────────────────────────────────────────────────────────────────────────\n",
       "   1 │ [-7504.0, -7476.0, -7532.0, -750…  [-5096.0, -5076.0, -5040.0, -510…  [ ⋯\n",
       "   2 │ [-7312.0, -7320.0, -7300.0, -739…  [-4920.0, -4776.0, -4896.0, -489…  [\n",
       "   3 │ [-7312.0, -7252.0, -7256.0, -730…  [-4508.0, -4528.0, -4500.0, -448…  [\n",
       "   4 │ [-7348.0, -7432.0, -7388.0, -740…  [-4548.0, -4588.0, -4572.0, -454…  [\n",
       "   5 │ [-7156.0, -7192.0, -7144.0, -714…  [-4520.0, -4524.0, -4444.0, -444…  [ ⋯\n",
       "   6 │ [-6984.0, -32768.0, -29976.0, -3…  [-8204.0, -13772.0, -21536.0, -1…  [\n",
       "   7 │ [-7928.0, -7636.0, -7788.0, -770…  [-5464.0, -5500.0, -5512.0, -583…  [\n",
       "   8 │ [-8292.0, -8208.0, -8216.0, -833…  [-4884.0, -5016.0, -5072.0, -510…  [\n",
       "  ⋮  │                 ⋮                                  ⋮                    ⋱\n",
       "  29 │ [-7108.0, -7236.0, -7176.0, -725…  [-7940.0, -7916.0, -7968.0, -786…  [ ⋯\n",
       "  30 │ [-8276.0, -8252.0, -8300.0, -823…  [-6936.0, -6888.0, -6900.0, -687…  [\n",
       "  31 │ [-8060.0, -8116.0, -8196.0, -811…  [-7400.0, -7488.0, -7396.0, -747…  [\n",
       "  32 │ [-8028.0, -8044.0, -7960.0, -799…  [-6596.0, -6724.0, -6604.0, -662…  [\n",
       "  33 │ [-8040.0, -7992.0, -8012.0, -802…  [-7700.0, -7684.0, -7640.0, -770…  [ ⋯\n",
       "  34 │ [-21684.0, -9072.0, -9780.0, -79…  [5052.0, -7220.0, -8456.0, -7204…  [\n",
       "  35 │ [-32768.0, -32768.0, -32768.0, -…  [4792.0, 9504.0, 6100.0, 2684.0,…  [\n",
       "\u001b[36m                                                  37 columns and 20 rows omitted\u001b[0m, (SubString{String}[\"sitting\", \"standing_up\", \"standing\", \"walking\", \"going_up\", \"walking\", \"running\", \"walking\", \"standing\"], [5, 7, 8, 1, 3, 1, 2, 1, 8]), [\"acc_rf_x\", \"acc_rf_y\", \"acc_rf_z\", \"gyro_rf_x\", \"gyro_rf_y\", \"gyro_rf_z\", \"acc_rs_x\", \"acc_rs_y\", \"acc_rs_z\", \"gyro_rs_x\"  …  \"gyro_ls_z\", \"acc_lt_x\", \"acc_lt_y\", \"acc_lt_z\", \"gyro_lt_x\", \"gyro_lt_y\", \"gyro_lt_z\", \"EMG_r\", \"EMG_l\", \"act\"])"
      ]
     },
     "metadata": {},
     "output_type": "display_data"
    }
   ],
   "source": [
    "# load all the data\n",
    "X, (activity_strings, activity_ids), variablenames = load_hugadb(expfiles)"
   ]
  },
  {
   "cell_type": "markdown",
   "id": "a97e20d6",
   "metadata": {},
   "source": [
    "## Walking"
   ]
  },
  {
   "cell_type": "code",
   "execution_count": 4,
   "id": "c98ae9bc",
   "metadata": {},
   "outputs": [],
   "source": [
    "X_walking = filter_hugadb(X, 1) # 1 is the activity id for walking\n",
    "X_walking = X_walking[:,expvars]\n",
    "\n",
    "# uncomment if you want to make experiments more lightweights\n",
    "for i in 1:ninstances(X_walking)\n",
    "    for j in 1:nvariables(X_walking)\n",
    "        X_walking[i,j] = X_walking[i,j][100:199]\n",
    "    end\n",
    "end"
   ]
  },
  {
   "cell_type": "code",
   "execution_count": 5,
   "id": "df3c3cff",
   "metadata": {},
   "outputs": [
    {
     "data": {
      "text/plain": [
       "#41 (generic function with 1 method)"
      ]
     },
     "metadata": {},
     "output_type": "display_data"
    }
   ],
   "source": [
    "# the lenght of the first two snippets extracted is 25\n",
    "_n1 = 2     # keep 2 if you want more lightweight experiments,\n",
    "            # howver it is interesting to enlarge this, making the extraction more granular\n",
    "_m1 = 25\n",
    "\n",
    "# the lenghth of the other two snippets extracted is 50\n",
    "_n2 = 2\n",
    "_m2 = 50\n",
    "\n",
    "# needed later to build a Miner which only mines interval of these lengths\n",
    "_mcoherence = x -> length(x) in [_m1, _m2]"
   ]
  },
  {
   "cell_type": "code",
   "execution_count": null,
   "id": "332a0489",
   "metadata": {},
   "outputs": [],
   "source": [
    "# run this cell if you need to create your literals, that is,\n",
    "# to extract snippets from time series and give them a name.\n",
    "\n",
    "ids_walking, motifs_walking, featurenames_walking = label_motifs(\n",
    "    X_walking, collect(1:length(expvars)), variablenames[expvars], \"HuGaDB-Walking\";\n",
    "    m1=_m1, n1=_n1,   # we want _n1 snippets of length _m1\n",
    "    m2=_m2, n2=_n2    # and _n2 snippets of length _m2\n",
    ")"
   ]
  },
  {
   "cell_type": "code",
   "execution_count": 7,
   "id": "5907d9d5",
   "metadata": {},
   "outputs": [],
   "source": [
    "# run this cell if you already created your literals\n",
    "ids_walking, motifs_walking, featurenames_walking = load_motifs(\"HuGaDB-Walking\");"
   ]
  },
  {
   "cell_type": "code",
   "execution_count": null,
   "id": "7256b4d8",
   "metadata": {},
   "outputs": [
    {
     "name": "stdout",
     "output_type": "stream",
     "text": [
      "Mining...\n",
      "Mining duration: 2912.19\n",
      "Generating rules...\n",
      "Generation duration: 634.22\n",
      "Writing to: /home/mauro/.julia/dev/ModalAssociationRules/test/experiments/results/i_have_command\n"
     ]
    }
   ],
   "source": [
    "# run the experiment (hyperparameters are `initialize_experiment` kwargs) & save the results\n",
    "logiset, miner = initialize_experiment(\n",
    "    ids_walking, motifs_walking, featurenames_walking, X_walking;\n",
    "    _worldfilter=SoleLogics.FunctionalWorldFilter(_mcoherence, Interval{Int}),\n",
    "    _itemsetmeasures = [(gsupport, 0.1, 0.1)],\n",
    ")\n",
    "experiment!(miner, \"walking\")"
   ]
  },
  {
   "cell_type": "markdown",
   "id": "9c9c9cd0",
   "metadata": {},
   "source": [
    "# Running"
   ]
  },
  {
   "cell_type": "code",
   "execution_count": null,
   "id": "5f867267",
   "metadata": {},
   "outputs": [],
   "source": [
    "X_running = filter_hugadb(X, 2) # 2 is the activity id for running\n",
    "X_running = X_running[:,expvars]\n",
    "\n",
    "# uncomment if you want to make experiments more lightweights\n",
    "for i in 1:ninstances(X_running)\n",
    "    for j in 1:nvariables(X_running)\n",
    "        X_running[i,j] = X_running[i,j][100:199]\n",
    "    end\n",
    "end"
   ]
  },
  {
   "cell_type": "code",
   "execution_count": null,
   "id": "c08f87cf",
   "metadata": {},
   "outputs": [],
   "source": [
    "ids_running, motifs_running, featurenames_running = label_motifs(\n",
    "    X_running, collect(1:length(expvars)), variablenames[expvars], \"HuGaDB-Running\";\n",
    "    m1=_m1, n1=_n1,   # we want _n1 snippets of length _m1\n",
    "    m2=_m2, n2=_n2    # and _n2 snippets of length _m2\n",
    ")"
   ]
  },
  {
   "cell_type": "code",
   "execution_count": null,
   "id": "17c3e25b",
   "metadata": {},
   "outputs": [],
   "source": [
    "# run this cell if you already created your literals\n",
    "ids_running, motifs_running, featurenames_running = load_motifs(\"HuGaDB-Running\")"
   ]
  },
  {
   "cell_type": "code",
   "execution_count": null,
   "id": "7306bdd7",
   "metadata": {},
   "outputs": [
    {
     "name": "stdout",
     "output_type": "stream",
     "text": [
      "Mining...\n",
      "Mining duration: 4826.88\n",
      "Generating rules...\n",
      "Generation duration: 1492.6\n",
      "Writing to: /home/mauro/.julia/dev/ModalAssociationRules/test/experiments/results/not_clear\n"
     ]
    }
   ],
   "source": [
    "# run the experiment (hyperparameters are `initialize_experiment` kwargs) & save the results\n",
    "logiset, miner = initialize_experiment(\n",
    "    ids_running, motifs_running, featurenames_running, X_running;\n",
    "    _worldfilter=SoleLogics.FunctionalWorldFilter(_mcoherence, Interval{Int}),\n",
    "    _itemsetmeasures = [(gsupport, 0.1, 0.1)],\n",
    ")\n",
    "experiment!(miner, \"running\")"
   ]
  },
  {
   "cell_type": "markdown",
   "id": "56c33952",
   "metadata": {},
   "source": [
    "# Lock wings"
   ]
  },
  {
   "cell_type": "code",
   "execution_count": null,
   "id": "af412058",
   "metadata": {},
   "outputs": [],
   "source": [
    "ids, motifs, featurenames = label_motifs(\n",
    "    LWC, \n",
    "    vcat(collect(1:12)),\n",
    "    \"NATOPS-LWC\"\n",
    ")"
   ]
  },
  {
   "cell_type": "code",
   "execution_count": 25,
   "id": "22f77ae6",
   "metadata": {},
   "outputs": [],
   "source": [
    "ids, motifs, featurenames = load_motifs(\"NATOPS-LWC\");"
   ]
  },
  {
   "cell_type": "code",
   "execution_count": null,
   "id": "4327b768",
   "metadata": {},
   "outputs": [],
   "source": [
    "logiset, miner = initialize_experiment(ids, motifs, featurenames, LWC)\n",
    "experiment!(miner, \"lock_wings\")"
   ]
  },
  {
   "cell_type": "code",
   "execution_count": null,
   "id": "bb521c96",
   "metadata": {},
   "outputs": [],
   "source": [
    "# fast sketch of the rules' output, sorted by lift \n",
    "# \n",
    "# ith = 1\n",
    "# t = []\n",
    "# \n",
    "# try\n",
    "#     for r in arules(miner)[ith:length(arules(miner))]\n",
    "#         _conf = round(\n",
    "#             globalmemo(miner, (:gconfidence, r)), digits=2\n",
    "#         )\n",
    "#         _lift = round(\n",
    "#             globalmemo(miner, (:glift, r)), digits=2\n",
    "#         )\n",
    "# \n",
    "#         push!(t, (r, _conf, _lift))\n",
    "#         ith += 1\n",
    "#     end\n",
    "# catch\n",
    "# end\n",
    "# \n",
    "# f = open(joinpath(\"results\", \"lock_wings\"), \"w\")\n",
    "# for (r,c,l) in sort!(t, by=x->x[3], rev=true)\n",
    "#     println(f, \"$(r) $(c) $(l)\");\n",
    "# end\n",
    "# flush(f)"
   ]
  },
  {
   "cell_type": "markdown",
   "id": "688d962d",
   "metadata": {},
   "source": [
    "# Plots"
   ]
  },
  {
   "cell_type": "code",
   "execution_count": 36,
   "id": "fa141b65",
   "metadata": {},
   "outputs": [
    {
     "data": {
      "text/plain": [
       "Plots.PGFPlotsXBackend()"
      ]
     },
     "metadata": {},
     "output_type": "display_data"
    }
   ],
   "source": [
    "using Plots\n",
    "using PGFPlotsX\n",
    "pgfplotsx()"
   ]
  },
  {
   "cell_type": "code",
   "execution_count": 23,
   "id": "f383ec6d",
   "metadata": {},
   "outputs": [],
   "source": [
    "IHCC_plot = plot(IHCC[1,4], IHCC[1,5], \n",
    "    label = \"\", linecolor = :blue, linewidth = 1, aspect_ratio = :equal,\n",
    "    xlims=(0,3), ylims=(-2.2,1.5), \n",
    "    titlefont=font(18, \"Arial\"), guidefontsize=16, size = (300, 300),\n",
    "    legend = :topright\n",
    ")\n",
    "\n",
    "plot!(IHCC[1,10], IHCC[1,11],\n",
    "    label = \"\", linecolor = :red, linewidth = 1,)\n",
    "\n",
    "xlabel!(\"x\")\n",
    "ylabel!(\"y\")\n",
    "\n",
    "title!(\"I have command\")\n",
    "\n",
    "savefig(\"results/plot_IHCC.tex\");"
   ]
  },
  {
   "cell_type": "code",
   "execution_count": null,
   "id": "f3b65eb3",
   "metadata": {},
   "outputs": [],
   "source": [
    "\n",
    "# actually this is not correct, as y axis should indicate a position...\n",
    "# plot!(NCC[1,4], -NCC[1,25],\n",
    "#     label = \"Thumb orientation\", linecolor = :red, linewidth = 1,)\n",
    "\n",
    "# it is better to give the same idea but coloring the main signal in red, when the thumb \n",
    "# is down\n",
    "x = NCC[1,4]; y = NCC[1,5];\n",
    "x1 = x[1:15]; y1 = y[1:15];\n",
    "x2 = x[15:33]; y2 = y[15:33];\n",
    "x3 = x[33:end]; y3 = y[33:end];\n",
    "\n",
    "NCC_plot = plot(x1, y1,\n",
    "    label = \"\", linecolor = :blue, linewidth = 1,\n",
    "    xlims=(0,3), ylims=(-2.2,1.5),\n",
    "    titlefont=font(18, \"Arial\"), guidefontsize=16, size = (300, 300),\n",
    "    # legend = :topleft\n",
    ");\n",
    "\n",
    "\n",
    "plot!(x2, y2, linecolor = :blue, linewidth = 1.5, label = \"\", ls=:dot)\n",
    "plot!(x3, y3, linecolor = :blue, linewidth = 1, label = \"\")\n",
    "\n",
    "plot!(NCC[1,10], NCC[1,11], linecolor = :red, linewidth = 1, label = \"\")\n",
    "\n",
    "xlabel!(\"x\")\n",
    "ylabel!(\"y\")\n",
    "\n",
    "title!(\"Not clear\")\n",
    "\n",
    "savefig(\"results/plot_NCC.tex\");"
   ]
  },
  {
   "cell_type": "code",
   "execution_count": 140,
   "id": "19352dec",
   "metadata": {},
   "outputs": [],
   "source": [
    "LWC_plot = plot(LWC[1,1], LWC[1,2],\n",
    "    label = \"\", linecolor = :orange, linewidth = 1,\n",
    "    xlims=(-1,3), ylims=(-2.2,1.5),\n",
    "    titlefont=font(18, \"Arial\"), guidefontsize=16, size = (300, 300),\n",
    "    legend = :topleft\n",
    ");\n",
    "\n",
    "plot!(LWC[1,4], LWC[1,5],\n",
    "    label = \"\", linecolor = :blue, linewidth = 1,)\n",
    "\n",
    "plot!(LWC[1,7], LWC[1,8],\n",
    "    label = \"\", linecolor = :violet, linewidth = 1,)\n",
    "\n",
    "plot!(LWC[1,10], LWC[1,11],\n",
    "    label = \"\", linecolor = :red, linewidth = 1,)\n",
    "\n",
    "xlabel!(\"x\")\n",
    "ylabel!(\"y\")\n",
    "zlabel!(\"z\")\n",
    "\n",
    "title!(\"Locked wings\")\n",
    "\n",
    "savefig(\"results/plot_LWC.tex\");"
   ]
  },
  {
   "cell_type": "code",
   "execution_count": null,
   "id": "21521227",
   "metadata": {},
   "outputs": [],
   "source": []
  }
 ],
 "metadata": {
  "kernelspec": {
   "display_name": "Julia 1.11.1",
   "language": "julia",
   "name": "julia-1.11"
  },
  "language_info": {
   "file_extension": ".jl",
   "mimetype": "application/julia",
   "name": "julia",
   "version": "1.11.1"
  }
 },
 "nbformat": 4,
 "nbformat_minor": 5
}
